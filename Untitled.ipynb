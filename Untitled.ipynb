{
 "cells": [
  {
   "cell_type": "code",
   "execution_count": 2,
   "id": "4b3c61bc",
   "metadata": {},
   "outputs": [],
   "source": [
    "import pandas as pd\n",
    "import numpy as np\n",
    "import math\n",
    "from scipy.stats import norm"
   ]
  },
  {
   "cell_type": "code",
   "execution_count": 7,
   "id": "081961a2",
   "metadata": {},
   "outputs": [],
   "source": [
    "def euro_values(S0, K, r, sigma, T,D = 0):\n",
    "    d1 = (math.log(S0/K) + (r + 1/2*sigma**2)*T)/(sigma*math.sqrt(T))\n",
    "    d2 = d1 - sigma*math.sqrt(T)\n",
    "    c = S0*math.exp(-D*T)*norm.cdf(d1) - K*math.exp(-r*T)*norm.cdf(d2)\n",
    "    p = K*math.exp(-r*T)*norm.cdf(-d1) - S0*math.exp(-D*T)*norm.cdf(-d2)\n",
    "    return c, p"
   ]
  },
  {
   "cell_type": "code",
   "execution_count": 8,
   "id": "98afe8f5",
   "metadata": {},
   "outputs": [
    {
     "name": "stdout",
     "output_type": "stream",
     "text": [
      "(2.4004610869656666, -2.4001632781655005)\n"
     ]
    }
   ],
   "source": [
    "print(euro_values(49, 50, 0.05, 0.2, 0.3846))"
   ]
  },
  {
   "cell_type": "code",
   "execution_count": null,
   "id": "14f732bd",
   "metadata": {},
   "outputs": [],
   "source": []
  }
 ],
 "metadata": {
  "kernelspec": {
   "display_name": "Python 3 (ipykernel)",
   "language": "python",
   "name": "python3"
  },
  "language_info": {
   "codemirror_mode": {
    "name": "ipython",
    "version": 3
   },
   "file_extension": ".py",
   "mimetype": "text/x-python",
   "name": "python",
   "nbconvert_exporter": "python",
   "pygments_lexer": "ipython3",
   "version": "3.10.5"
  }
 },
 "nbformat": 4,
 "nbformat_minor": 5
}
